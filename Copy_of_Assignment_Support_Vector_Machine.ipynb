{
  "nbformat": 4,
  "nbformat_minor": 0,
  "metadata": {
    "kernelspec": {
      "display_name": "Python 3",
      "language": "python",
      "name": "python3"
    },
    "language_info": {
      "codemirror_mode": {
        "name": "ipython",
        "version": 3
      },
      "file_extension": ".py",
      "mimetype": "text/x-python",
      "name": "python",
      "nbconvert_exporter": "python",
      "pygments_lexer": "ipython3",
      "version": "3.7.1"
    },
    "colab": {
      "name": "Copy of Assignment - Support Vector Machine.ipynb",
      "provenance": [],
      "collapsed_sections": [],
      "include_colab_link": true
    }
  },
  "cells": [
    {
      "cell_type": "markdown",
      "metadata": {
        "id": "view-in-github",
        "colab_type": "text"
      },
      "source": [
        "<a href=\"https://colab.research.google.com/github/rajusuthar/Twitter-sentiment-analysis/blob/main/Copy_of_Assignment_Support_Vector_Machine.ipynb\" target=\"_parent\"><img src=\"https://colab.research.google.com/assets/colab-badge.svg\" alt=\"Open In Colab\"/></a>"
      ]
    },
    {
      "cell_type": "markdown",
      "metadata": {
        "id": "PYsTFWXYjCxF"
      },
      "source": [
        "# <u><b> Objective </b></u>\n",
        "## <b> You are given a data of US Airline tweets and their sentiment. The task is to do sentiment analysis about the problems of each major U.S. airline. Twitter data was scraped from February of 2015 and contributors were asked to first classify positive, negative, and neutral tweets, followed by categorizing negative reasons (such as \"late flight\" or \"rude service\"). </b>\n",
        "\n",
        "<br>\n",
        "<br>\n",
        "\n",
        "## <b>Things to do :</b>\n",
        "* ### Read the tweets.csv data, clean and tokenize the tweets using nltk library.\n",
        "* ### Count vectorize the tweets so that you end up with a sparse matrix (which will be your $X$). \n",
        "* ### You are supposed to build a SVM classifier (a binary classification in fact). Since the data contains three levels of sentiment(positive, negative and neutral), you should remove the sentences which are neutral. Once you do that you will have two classes only (positive and negative). You can set the label of positive tweets to 1 and negative tweets to 0.\n",
        "* ### Once you have built the SVM classifier, evaluate this model across various metrics. Also plot the ROC curve and Precision-Recall curve. Report the areas under these two curves along with other metrics.\n",
        "* ### Perform GridSearch cross validation for various values of $C$ and $gamma$. These will be the hyperparameters which you would play around with.\n",
        "* ### Explain your observations and the underlying reasons for these.\n",
        "* ### Try checking if <code>tfidfvectorizer</code> helps you gain lift in model's performance.\n",
        "\n",
        "\n",
        "\n"
      ]
    },
    {
      "cell_type": "code",
      "metadata": {
        "id": "MhLLSMsDvv_t",
        "colab": {
          "base_uri": "https://localhost:8080/"
        },
        "outputId": "b85f9f48-6504-4616-a900-33918ef0e721"
      },
      "source": [
        "from google.colab import drive\n",
        "drive.mount('/content/drive')"
      ],
      "execution_count": 2,
      "outputs": [
        {
          "output_type": "stream",
          "name": "stdout",
          "text": [
            "Drive already mounted at /content/drive; to attempt to forcibly remount, call drive.mount(\"/content/drive\", force_remount=True).\n"
          ]
        }
      ]
    },
    {
      "cell_type": "code",
      "metadata": {
        "id": "Ah_20SDKV7Ao"
      },
      "source": [
        "#importing library\n",
        "import pandas as pd\n",
        "import numpy as np\n",
        "import seaborn as sns\n",
        "import matplotlib.pyplot as plt\n"
      ],
      "execution_count": 3,
      "outputs": []
    },
    {
      "cell_type": "code",
      "metadata": {
        "id": "6nJCu11CwXcC"
      },
      "source": [
        "#creating directory path\n",
        "dir_path='/content/drive/MyDrive/Tweets.csv'"
      ],
      "execution_count": 4,
      "outputs": []
    },
    {
      "cell_type": "code",
      "metadata": {
        "id": "-cxt_kIAwc9l"
      },
      "source": [
        "#reading data\n",
        "tweet_df=pd.read_csv(dir_path)"
      ],
      "execution_count": 5,
      "outputs": []
    },
    {
      "cell_type": "code",
      "metadata": {
        "id": "nx-k9f04xfoW",
        "colab": {
          "base_uri": "https://localhost:8080/"
        },
        "outputId": "3bba44f6-3dcc-4a3f-da27-81b4f9f7436e"
      },
      "source": [
        "tweet_df.shape"
      ],
      "execution_count": 6,
      "outputs": [
        {
          "output_type": "execute_result",
          "data": {
            "text/plain": [
              "(14640, 15)"
            ]
          },
          "metadata": {},
          "execution_count": 6
        }
      ]
    },
    {
      "cell_type": "markdown",
      "metadata": {
        "id": "HK6YMvvywzQY"
      },
      "source": [
        "#We only need data where sentiment is positive or nagative so let's remove rows where sentiment is nagetive"
      ]
    },
    {
      "cell_type": "code",
      "metadata": {
        "id": "NCK76ONtwk6S"
      },
      "source": [
        "#consider row where sentiment is positive or nagetive\n",
        "tweet_df=tweet_df[tweet_df['airline_sentiment']!='neutral']"
      ],
      "execution_count": 7,
      "outputs": []
    },
    {
      "cell_type": "code",
      "metadata": {
        "id": "2jJFr5qLyMSU",
        "colab": {
          "base_uri": "https://localhost:8080/",
          "height": 469
        },
        "outputId": "a631f39e-6171-4648-bc36-102a1a8d077c"
      },
      "source": [
        "tweet_df.head()"
      ],
      "execution_count": 8,
      "outputs": [
        {
          "output_type": "execute_result",
          "data": {
            "text/html": [
              "<div>\n",
              "<style scoped>\n",
              "    .dataframe tbody tr th:only-of-type {\n",
              "        vertical-align: middle;\n",
              "    }\n",
              "\n",
              "    .dataframe tbody tr th {\n",
              "        vertical-align: top;\n",
              "    }\n",
              "\n",
              "    .dataframe thead th {\n",
              "        text-align: right;\n",
              "    }\n",
              "</style>\n",
              "<table border=\"1\" class=\"dataframe\">\n",
              "  <thead>\n",
              "    <tr style=\"text-align: right;\">\n",
              "      <th></th>\n",
              "      <th>tweet_id</th>\n",
              "      <th>airline_sentiment</th>\n",
              "      <th>airline_sentiment_confidence</th>\n",
              "      <th>negativereason</th>\n",
              "      <th>negativereason_confidence</th>\n",
              "      <th>airline</th>\n",
              "      <th>airline_sentiment_gold</th>\n",
              "      <th>name</th>\n",
              "      <th>negativereason_gold</th>\n",
              "      <th>retweet_count</th>\n",
              "      <th>text</th>\n",
              "      <th>tweet_coord</th>\n",
              "      <th>tweet_created</th>\n",
              "      <th>tweet_location</th>\n",
              "      <th>user_timezone</th>\n",
              "    </tr>\n",
              "  </thead>\n",
              "  <tbody>\n",
              "    <tr>\n",
              "      <th>1</th>\n",
              "      <td>570301130888122368</td>\n",
              "      <td>positive</td>\n",
              "      <td>0.3486</td>\n",
              "      <td>NaN</td>\n",
              "      <td>0.0000</td>\n",
              "      <td>Virgin America</td>\n",
              "      <td>NaN</td>\n",
              "      <td>jnardino</td>\n",
              "      <td>NaN</td>\n",
              "      <td>0</td>\n",
              "      <td>@VirginAmerica plus you've added commercials t...</td>\n",
              "      <td>NaN</td>\n",
              "      <td>2015-02-24 11:15:59 -0800</td>\n",
              "      <td>NaN</td>\n",
              "      <td>Pacific Time (US &amp; Canada)</td>\n",
              "    </tr>\n",
              "    <tr>\n",
              "      <th>3</th>\n",
              "      <td>570301031407624196</td>\n",
              "      <td>negative</td>\n",
              "      <td>1.0000</td>\n",
              "      <td>Bad Flight</td>\n",
              "      <td>0.7033</td>\n",
              "      <td>Virgin America</td>\n",
              "      <td>NaN</td>\n",
              "      <td>jnardino</td>\n",
              "      <td>NaN</td>\n",
              "      <td>0</td>\n",
              "      <td>@VirginAmerica it's really aggressive to blast...</td>\n",
              "      <td>NaN</td>\n",
              "      <td>2015-02-24 11:15:36 -0800</td>\n",
              "      <td>NaN</td>\n",
              "      <td>Pacific Time (US &amp; Canada)</td>\n",
              "    </tr>\n",
              "    <tr>\n",
              "      <th>4</th>\n",
              "      <td>570300817074462722</td>\n",
              "      <td>negative</td>\n",
              "      <td>1.0000</td>\n",
              "      <td>Can't Tell</td>\n",
              "      <td>1.0000</td>\n",
              "      <td>Virgin America</td>\n",
              "      <td>NaN</td>\n",
              "      <td>jnardino</td>\n",
              "      <td>NaN</td>\n",
              "      <td>0</td>\n",
              "      <td>@VirginAmerica and it's a really big bad thing...</td>\n",
              "      <td>NaN</td>\n",
              "      <td>2015-02-24 11:14:45 -0800</td>\n",
              "      <td>NaN</td>\n",
              "      <td>Pacific Time (US &amp; Canada)</td>\n",
              "    </tr>\n",
              "    <tr>\n",
              "      <th>5</th>\n",
              "      <td>570300767074181121</td>\n",
              "      <td>negative</td>\n",
              "      <td>1.0000</td>\n",
              "      <td>Can't Tell</td>\n",
              "      <td>0.6842</td>\n",
              "      <td>Virgin America</td>\n",
              "      <td>NaN</td>\n",
              "      <td>jnardino</td>\n",
              "      <td>NaN</td>\n",
              "      <td>0</td>\n",
              "      <td>@VirginAmerica seriously would pay $30 a fligh...</td>\n",
              "      <td>NaN</td>\n",
              "      <td>2015-02-24 11:14:33 -0800</td>\n",
              "      <td>NaN</td>\n",
              "      <td>Pacific Time (US &amp; Canada)</td>\n",
              "    </tr>\n",
              "    <tr>\n",
              "      <th>6</th>\n",
              "      <td>570300616901320704</td>\n",
              "      <td>positive</td>\n",
              "      <td>0.6745</td>\n",
              "      <td>NaN</td>\n",
              "      <td>0.0000</td>\n",
              "      <td>Virgin America</td>\n",
              "      <td>NaN</td>\n",
              "      <td>cjmcginnis</td>\n",
              "      <td>NaN</td>\n",
              "      <td>0</td>\n",
              "      <td>@VirginAmerica yes, nearly every time I fly VX...</td>\n",
              "      <td>NaN</td>\n",
              "      <td>2015-02-24 11:13:57 -0800</td>\n",
              "      <td>San Francisco CA</td>\n",
              "      <td>Pacific Time (US &amp; Canada)</td>\n",
              "    </tr>\n",
              "  </tbody>\n",
              "</table>\n",
              "</div>"
            ],
            "text/plain": [
              "             tweet_id  ...               user_timezone\n",
              "1  570301130888122368  ...  Pacific Time (US & Canada)\n",
              "3  570301031407624196  ...  Pacific Time (US & Canada)\n",
              "4  570300817074462722  ...  Pacific Time (US & Canada)\n",
              "5  570300767074181121  ...  Pacific Time (US & Canada)\n",
              "6  570300616901320704  ...  Pacific Time (US & Canada)\n",
              "\n",
              "[5 rows x 15 columns]"
            ]
          },
          "metadata": {},
          "execution_count": 8
        }
      ]
    },
    {
      "cell_type": "code",
      "metadata": {
        "id": "aMahz8X8wnSW",
        "colab": {
          "base_uri": "https://localhost:8080/"
        },
        "outputId": "697dbb00-33df-4e7e-e1b5-a1d3897dc25f"
      },
      "source": [
        "#cheking for null value\n",
        "tweet_df.isnull().sum()"
      ],
      "execution_count": 9,
      "outputs": [
        {
          "output_type": "execute_result",
          "data": {
            "text/plain": [
              "tweet_id                            0\n",
              "airline_sentiment                   0\n",
              "airline_sentiment_confidence        0\n",
              "negativereason                   2363\n",
              "negativereason_confidence        2033\n",
              "airline                             0\n",
              "airline_sentiment_gold          11504\n",
              "name                                0\n",
              "negativereason_gold             11509\n",
              "retweet_count                       0\n",
              "text                                0\n",
              "tweet_coord                     10703\n",
              "tweet_created                       0\n",
              "tweet_location                   3771\n",
              "user_timezone                    3849\n",
              "dtype: int64"
            ]
          },
          "metadata": {},
          "execution_count": 9
        }
      ]
    },
    {
      "cell_type": "markdown",
      "metadata": {
        "id": "wKwKDxYC14dR"
      },
      "source": [
        "#In our data ,in columns like negativereason_gold ,airline_sentiment_gold,tweet_coord have many null value and also some column like name of user,timezone.location,retweet_count not impact our analysis or i would say not impact user review so let's remove these columns from our dataframe."
      ]
    },
    {
      "cell_type": "code",
      "metadata": {
        "id": "P9WRz-zwyCE1"
      },
      "source": [
        "#dropping columns\n",
        "tweet_df.drop('negativereason_gold', axis=1, inplace=True)\n",
        "tweet_df.drop('airline_sentiment_gold', axis=1, inplace=True)\n",
        "tweet_df.drop('retweet_count', axis=1, inplace=True)\n",
        "tweet_df.drop('tweet_coord', axis=1, inplace=True)\n",
        "tweet_df.drop('tweet_location', axis=1, inplace=True)\n",
        "tweet_df.drop('tweet_created', axis=1, inplace=True)\n",
        "tweet_df.drop('user_timezone', axis=1, inplace=True)\n",
        "tweet_df.drop('name', axis=1, inplace=True)"
      ],
      "execution_count": 10,
      "outputs": []
    },
    {
      "cell_type": "code",
      "metadata": {
        "colab": {
          "base_uri": "https://localhost:8080/"
        },
        "id": "lZMAst-f8JfU",
        "outputId": "1ea5d2f7-87f5-47a9-df4b-c3d58a7e0548"
      },
      "source": [
        "tweet_df['airline'].value_counts()"
      ],
      "execution_count": 11,
      "outputs": [
        {
          "output_type": "execute_result",
          "data": {
            "text/plain": [
              "United            3125\n",
              "US Airways        2532\n",
              "American          2296\n",
              "Southwest         1756\n",
              "Delta             1499\n",
              "Virgin America     333\n",
              "Name: airline, dtype: int64"
            ]
          },
          "metadata": {},
          "execution_count": 11
        }
      ]
    },
    {
      "cell_type": "markdown",
      "metadata": {
        "id": "xh8WYVyu9Z4o"
      },
      "source": [
        "#We have data of five airlines"
      ]
    },
    {
      "cell_type": "code",
      "metadata": {
        "colab": {
          "base_uri": "https://localhost:8080/"
        },
        "id": "7I6Bw8gx8YAM",
        "outputId": "69eabcf7-5c62-47b1-92a2-40c7fd36f66f"
      },
      "source": [
        "tweet_df['airline_sentiment'].value_counts()"
      ],
      "execution_count": 12,
      "outputs": [
        {
          "output_type": "execute_result",
          "data": {
            "text/plain": [
              "negative    9178\n",
              "positive    2363\n",
              "Name: airline_sentiment, dtype: int64"
            ]
          },
          "metadata": {},
          "execution_count": 12
        }
      ]
    },
    {
      "cell_type": "markdown",
      "metadata": {
        "id": "e_ZPgTgL9iS3"
      },
      "source": [
        "#Our data consits of more nagative reviews"
      ]
    },
    {
      "cell_type": "code",
      "metadata": {
        "colab": {
          "base_uri": "https://localhost:8080/"
        },
        "id": "cQiPiRYz8tfA",
        "outputId": "48862933-3413-415f-d038-69b78cc2ef99"
      },
      "source": [
        "tweet_df['negativereason'].value_counts()"
      ],
      "execution_count": 13,
      "outputs": [
        {
          "output_type": "execute_result",
          "data": {
            "text/plain": [
              "Customer Service Issue         2910\n",
              "Late Flight                    1665\n",
              "Can't Tell                     1190\n",
              "Cancelled Flight                847\n",
              "Lost Luggage                    724\n",
              "Bad Flight                      580\n",
              "Flight Booking Problems         529\n",
              "Flight Attendant Complaints     481\n",
              "longlines                       178\n",
              "Damaged Luggage                  74\n",
              "Name: negativereason, dtype: int64"
            ]
          },
          "metadata": {},
          "execution_count": 13
        }
      ]
    },
    {
      "cell_type": "markdown",
      "metadata": {
        "id": "WScDHnWb9t2F"
      },
      "source": [
        "#Most of the time customer gives nagative reviews becuase of customer behaviour"
      ]
    },
    {
      "cell_type": "markdown",
      "metadata": {
        "id": "Tj-LQcAG_C6w"
      },
      "source": [
        "#**Test data cleaning**"
      ]
    },
    {
      "cell_type": "markdown",
      "metadata": {
        "id": "39AleSK_-xvK"
      },
      "source": [
        "#In our text columns we have word which are common also punctuation so let's remove common/stop word and punctuation from text columns"
      ]
    },
    {
      "cell_type": "code",
      "metadata": {
        "colab": {
          "base_uri": "https://localhost:8080/"
        },
        "id": "HjI6RKTV898d",
        "outputId": "32d13435-8774-428c-c4c1-2104d7ed759d"
      },
      "source": [
        "#importing libraray and downloading stopword\n",
        "import nltk\n",
        "nltk.download('stopwords')"
      ],
      "execution_count": 14,
      "outputs": [
        {
          "output_type": "stream",
          "name": "stdout",
          "text": [
            "[nltk_data] Downloading package stopwords to /root/nltk_data...\n",
            "[nltk_data]   Package stopwords is already up-to-date!\n"
          ]
        },
        {
          "output_type": "execute_result",
          "data": {
            "text/plain": [
              "True"
            ]
          },
          "metadata": {},
          "execution_count": 14
        }
      ]
    },
    {
      "cell_type": "code",
      "metadata": {
        "id": "iIDQf8vu_P8U"
      },
      "source": [
        "#importing library\n",
        "import string\n",
        "from nltk.corpus import stopwords"
      ],
      "execution_count": 15,
      "outputs": []
    },
    {
      "cell_type": "code",
      "metadata": {
        "id": "SG_uXhNaSSZc"
      },
      "source": [
        "def clean_text(str_in):\n",
        "\n",
        "    res = \"\"\n",
        "    str_in = str_in.lower()\n",
        "    str_arr = str_in.split(' ')\n",
        "    for word in str_arr:\n",
        "        # make all words into lower case\n",
        "        word = word.lower()\n",
        "        # remove not useful words from the original text\n",
        "        if '@' in word or word == '' or word[:1] == '&':\n",
        "            continue\n",
        "        if word.lower() in stopwords.words('english'):\n",
        "            continue\n",
        "        if word.isnumeric():\n",
        "            continue\n",
        "        res = res + \" \" + word\n",
        "    return res"
      ],
      "execution_count": 16,
      "outputs": []
    },
    {
      "cell_type": "code",
      "metadata": {
        "id": "Ch6VHXiPVf58"
      },
      "source": [
        "#applying funtion to text column to clean text data\n",
        "tweet_df['text'] =tweet_df['text'].apply(clean_text)"
      ],
      "execution_count": 17,
      "outputs": []
    },
    {
      "cell_type": "code",
      "metadata": {
        "colab": {
          "base_uri": "https://localhost:8080/",
          "height": 563
        },
        "id": "jYYwrc0CWD4c",
        "outputId": "e5100798-584a-457c-9d52-bde4f538c8d9"
      },
      "source": [
        "tweet_df"
      ],
      "execution_count": 18,
      "outputs": [
        {
          "output_type": "execute_result",
          "data": {
            "text/html": [
              "<div>\n",
              "<style scoped>\n",
              "    .dataframe tbody tr th:only-of-type {\n",
              "        vertical-align: middle;\n",
              "    }\n",
              "\n",
              "    .dataframe tbody tr th {\n",
              "        vertical-align: top;\n",
              "    }\n",
              "\n",
              "    .dataframe thead th {\n",
              "        text-align: right;\n",
              "    }\n",
              "</style>\n",
              "<table border=\"1\" class=\"dataframe\">\n",
              "  <thead>\n",
              "    <tr style=\"text-align: right;\">\n",
              "      <th></th>\n",
              "      <th>tweet_id</th>\n",
              "      <th>airline_sentiment</th>\n",
              "      <th>airline_sentiment_confidence</th>\n",
              "      <th>negativereason</th>\n",
              "      <th>negativereason_confidence</th>\n",
              "      <th>airline</th>\n",
              "      <th>text</th>\n",
              "    </tr>\n",
              "  </thead>\n",
              "  <tbody>\n",
              "    <tr>\n",
              "      <th>1</th>\n",
              "      <td>570301130888122368</td>\n",
              "      <td>positive</td>\n",
              "      <td>0.3486</td>\n",
              "      <td>NaN</td>\n",
              "      <td>0.0000</td>\n",
              "      <td>Virgin America</td>\n",
              "      <td>plus added commercials experience... tacky.</td>\n",
              "    </tr>\n",
              "    <tr>\n",
              "      <th>3</th>\n",
              "      <td>570301031407624196</td>\n",
              "      <td>negative</td>\n",
              "      <td>1.0000</td>\n",
              "      <td>Bad Flight</td>\n",
              "      <td>0.7033</td>\n",
              "      <td>Virgin America</td>\n",
              "      <td>really aggressive blast obnoxious \"entertainm...</td>\n",
              "    </tr>\n",
              "    <tr>\n",
              "      <th>4</th>\n",
              "      <td>570300817074462722</td>\n",
              "      <td>negative</td>\n",
              "      <td>1.0000</td>\n",
              "      <td>Can't Tell</td>\n",
              "      <td>1.0000</td>\n",
              "      <td>Virgin America</td>\n",
              "      <td>really big bad thing</td>\n",
              "    </tr>\n",
              "    <tr>\n",
              "      <th>5</th>\n",
              "      <td>570300767074181121</td>\n",
              "      <td>negative</td>\n",
              "      <td>1.0000</td>\n",
              "      <td>Can't Tell</td>\n",
              "      <td>0.6842</td>\n",
              "      <td>Virgin America</td>\n",
              "      <td>seriously would pay $30 flight seats playing....</td>\n",
              "    </tr>\n",
              "    <tr>\n",
              "      <th>6</th>\n",
              "      <td>570300616901320704</td>\n",
              "      <td>positive</td>\n",
              "      <td>0.6745</td>\n",
              "      <td>NaN</td>\n",
              "      <td>0.0000</td>\n",
              "      <td>Virgin America</td>\n",
              "      <td>yes, nearly every time fly vx “ear worm” won’...</td>\n",
              "    </tr>\n",
              "    <tr>\n",
              "      <th>...</th>\n",
              "      <td>...</td>\n",
              "      <td>...</td>\n",
              "      <td>...</td>\n",
              "      <td>...</td>\n",
              "      <td>...</td>\n",
              "      <td>...</td>\n",
              "      <td>...</td>\n",
              "    </tr>\n",
              "    <tr>\n",
              "      <th>14633</th>\n",
              "      <td>569587705937600512</td>\n",
              "      <td>negative</td>\n",
              "      <td>1.0000</td>\n",
              "      <td>Cancelled Flight</td>\n",
              "      <td>1.0000</td>\n",
              "      <td>American</td>\n",
              "      <td>flight cancelled flightled, leaving tomorrow ...</td>\n",
              "    </tr>\n",
              "    <tr>\n",
              "      <th>14634</th>\n",
              "      <td>569587691626622976</td>\n",
              "      <td>negative</td>\n",
              "      <td>0.6684</td>\n",
              "      <td>Late Flight</td>\n",
              "      <td>0.6684</td>\n",
              "      <td>American</td>\n",
              "      <td>right cue delays👌</td>\n",
              "    </tr>\n",
              "    <tr>\n",
              "      <th>14635</th>\n",
              "      <td>569587686496825344</td>\n",
              "      <td>positive</td>\n",
              "      <td>0.3487</td>\n",
              "      <td>NaN</td>\n",
              "      <td>0.0000</td>\n",
              "      <td>American</td>\n",
              "      <td>thank got different flight chicago.</td>\n",
              "    </tr>\n",
              "    <tr>\n",
              "      <th>14636</th>\n",
              "      <td>569587371693355008</td>\n",
              "      <td>negative</td>\n",
              "      <td>1.0000</td>\n",
              "      <td>Customer Service Issue</td>\n",
              "      <td>1.0000</td>\n",
              "      <td>American</td>\n",
              "      <td>leaving minutes late flight. warnings communi...</td>\n",
              "    </tr>\n",
              "    <tr>\n",
              "      <th>14638</th>\n",
              "      <td>569587188687634433</td>\n",
              "      <td>negative</td>\n",
              "      <td>1.0000</td>\n",
              "      <td>Customer Service Issue</td>\n",
              "      <td>0.6659</td>\n",
              "      <td>American</td>\n",
              "      <td>money, change flight, answer phones! suggesti...</td>\n",
              "    </tr>\n",
              "  </tbody>\n",
              "</table>\n",
              "<p>11541 rows × 7 columns</p>\n",
              "</div>"
            ],
            "text/plain": [
              "                 tweet_id  ...                                               text\n",
              "1      570301130888122368  ...        plus added commercials experience... tacky.\n",
              "3      570301031407624196  ...   really aggressive blast obnoxious \"entertainm...\n",
              "4      570300817074462722  ...                               really big bad thing\n",
              "5      570300767074181121  ...   seriously would pay $30 flight seats playing....\n",
              "6      570300616901320704  ...   yes, nearly every time fly vx “ear worm” won’...\n",
              "...                   ...  ...                                                ...\n",
              "14633  569587705937600512  ...   flight cancelled flightled, leaving tomorrow ...\n",
              "14634  569587691626622976  ...                                  right cue delays👌\n",
              "14635  569587686496825344  ...                thank got different flight chicago.\n",
              "14636  569587371693355008  ...   leaving minutes late flight. warnings communi...\n",
              "14638  569587188687634433  ...   money, change flight, answer phones! suggesti...\n",
              "\n",
              "[11541 rows x 7 columns]"
            ]
          },
          "metadata": {},
          "execution_count": 18
        }
      ]
    },
    {
      "cell_type": "markdown",
      "metadata": {
        "id": "5odtnj96Rebd"
      },
      "source": [
        "#**Data Analysis**"
      ]
    },
    {
      "cell_type": "code",
      "metadata": {
        "colab": {
          "base_uri": "https://localhost:8080/"
        },
        "id": "9J3IVg_AAueH",
        "outputId": "3bd00480-3518-4637-ffd0-39ab8d3c377b"
      },
      "source": [
        "tweet_df.groupby('airline_sentiment')['airline_sentiment_confidence'].sum()"
      ],
      "execution_count": 19,
      "outputs": [
        {
          "output_type": "execute_result",
          "data": {
            "text/plain": [
              "airline_sentiment\n",
              "negative    8566.4269\n",
              "positive    2060.6280\n",
              "Name: airline_sentiment_confidence, dtype: float64"
            ]
          },
          "metadata": {},
          "execution_count": 19
        }
      ]
    },
    {
      "cell_type": "markdown",
      "metadata": {
        "id": "tiIZtaktSqsr"
      },
      "source": [
        "#We have more airline_sentiment_confidence it mean we have more nagative tweet"
      ]
    },
    {
      "cell_type": "markdown",
      "metadata": {
        "id": "ZQ0UUfMdS2v6"
      },
      "source": [
        "#Now let's see which airlines is worst"
      ]
    },
    {
      "cell_type": "code",
      "metadata": {
        "colab": {
          "base_uri": "https://localhost:8080/",
          "height": 418
        },
        "id": "cu7VmSfUSLG5",
        "outputId": "cbd4502c-1835-4466-8f01-332042d7e64e"
      },
      "source": [
        "tweet_df.groupby(['airline','airline_sentiment'])['airline_sentiment_confidence'].sum().plot(kind='bar')"
      ],
      "execution_count": 20,
      "outputs": [
        {
          "output_type": "execute_result",
          "data": {
            "text/plain": [
              "<matplotlib.axes._subplots.AxesSubplot at 0x7fa4e0da6750>"
            ]
          },
          "metadata": {},
          "execution_count": 20
        },
        {
          "output_type": "display_data",
          "data": {
            "image/png": "[encoded data removed]",
            "text/plain": [
              "<Figure size 432x288 with 1 Axes>"
            ]
          },
          "metadata": {
            "needs_background": "light"
          }
        }
      ]
    },
    {
      "cell_type": "markdown",
      "metadata": {
        "id": "jQPyJf-JS83e"
      },
      "source": [
        "#From above bar plot we can say that United airlines has maximum nagative tweet or reviews"
      ]
    },
    {
      "cell_type": "markdown",
      "metadata": {
        "id": "ZgRGhXOHYAvZ"
      },
      "source": [
        "#Let's build model "
      ]
    },
    {
      "cell_type": "code",
      "metadata": {
        "id": "jUnEh5dsYnTk"
      },
      "source": [
        "#Creating a function\n",
        "def retrun_z(strr):\n",
        "  '''\n",
        "  This function take string as input and if string is postive return 1 else 0\n",
        "  '''\n",
        "  if strr=='positive':\n",
        "    return 1\n",
        "  else:\n",
        "    return 0"
      ],
      "execution_count": 21,
      "outputs": []
    },
    {
      "cell_type": "code",
      "metadata": {
        "id": "7qFTjUhhZFmJ"
      },
      "source": [
        "#converting airline_sentiment into numeric\n",
        "tweet_df['airline_sentiment']=tweet_df['airline_sentiment'].apply(retrun_z)"
      ],
      "execution_count": 22,
      "outputs": []
    },
    {
      "cell_type": "code",
      "metadata": {
        "id": "835tfk0fUfx8"
      },
      "source": [
        "#doing vectorization using count vectorization\n",
        "from sklearn.feature_extraction.text import CountVectorizer,TfidfVectorizer\n",
        "vectorizer = CountVectorizer(max_df = 0.9,min_df = 10)\n"
      ],
      "execution_count": 23,
      "outputs": []
    },
    {
      "cell_type": "code",
      "metadata": {
        "id": "DHg54cD9YYuC"
      },
      "source": [
        "#splitting data into train and test\n",
        "from sklearn.model_selection import train_test_split\n",
        "X_train,X_test,y_train,y_test = train_test_split(tweet_df['text'],tweet_df['airline_sentiment'],test_size=0.2)"
      ],
      "execution_count": 24,
      "outputs": []
    },
    {
      "cell_type": "code",
      "metadata": {
        "id": "5cj8rD90ZyL7"
      },
      "source": [
        "#vectorizing train and test data\n",
        "vectorized_train=vectorizer.fit_transform(X_train)\n",
        "vectorized_test=vectorizer.transform(X_test)"
      ],
      "execution_count": 25,
      "outputs": []
    },
    {
      "cell_type": "code",
      "metadata": {
        "id": "gDD1LcEMa1xl"
      },
      "source": [
        "#converting verctorized data to array \n",
        "train_array= vectorized_train.toarray()\n",
        "test_array = vectorized_test.toarray()"
      ],
      "execution_count": 26,
      "outputs": []
    },
    {
      "cell_type": "code",
      "metadata": {
        "colab": {
          "base_uri": "https://localhost:8080/"
        },
        "id": "Zpw4a4IQbIoP",
        "outputId": "ecd25bf4-817f-45c1-bd54-e5d325c27238"
      },
      "source": [
        "#importing support vector machine classifier\n",
        "from sklearn.svm import SVC\n",
        "clf = SVC(kernel='rbf', C=1E6)\n",
        "clf.fit(train_array,y_train)"
      ],
      "execution_count": 27,
      "outputs": [
        {
          "output_type": "execute_result",
          "data": {
            "text/plain": [
              "SVC(C=1000000.0)"
            ]
          },
          "metadata": {},
          "execution_count": 27
        }
      ]
    },
    {
      "cell_type": "code",
      "metadata": {
        "id": "GmAYAKY5dvRo"
      },
      "source": [
        "#prediction\n",
        "y_train_pred=clf.predict(train_array)\n",
        "y_test_pred=clf.predict(test_array)"
      ],
      "execution_count": 28,
      "outputs": []
    },
    {
      "cell_type": "code",
      "metadata": {
        "colab": {
          "base_uri": "https://localhost:8080/"
        },
        "id": "pMGSt8xSfnBu",
        "outputId": "fccb58d3-af7b-467d-8638-e843e87652d4"
      },
      "source": [
        "#evaluting using roc auc\n",
        "from sklearn.metrics import accuracy_score,confusion_matrix,roc_auc_score\n",
        "\n",
        "# auc score\n",
        "print('test accuracy score:',accuracy_score(y_test,y_test_pred))\n",
        "print('train accuracy score:',accuracy_score(y_train,y_train_pred))\n",
        "print('test roc auc  score:',roc_auc_score(y_test,y_test_pred))\n",
        "print('train train roc auc score:',roc_auc_score(y_train,y_train_pred))\n",
        "\n"
      ],
      "execution_count": 29,
      "outputs": [
        {
          "output_type": "stream",
          "name": "stdout",
          "text": [
            "test accuracy score: 0.8796015591165006\n",
            "train accuracy score: 0.9974003466204506\n",
            "test roc auc  score: 0.8004807799866661\n",
            "train train roc auc score: 0.9939849399136581\n"
          ]
        }
      ]
    },
    {
      "cell_type": "code",
      "metadata": {
        "id": "3sD7PRlLyu8M"
      },
      "source": [
        "from sklearn.metrics import roc_curve\n",
        "\n",
        "# roc curve for models\n",
        "fpr1, tpr1, thresh1 = roc_curve(y_test,y_test_pred, pos_label=1)\n",
        "fpr2, tpr2, thresh2 = roc_curve(y_train,y_train_pred, pos_label=1)\n",
        "\n",
        "# roc curve for tpr = fpr \n",
        "random_probs = [0 for i in range(len(y_test))]\n",
        "p_fpr, p_tpr, _ = roc_curve(y_test, random_probs, pos_label=1)\n"
      ],
      "execution_count": 30,
      "outputs": []
    },
    {
      "cell_type": "code",
      "metadata": {
        "id": "75Bkx_s9y3_p",
        "colab": {
          "base_uri": "https://localhost:8080/",
          "height": 376
        },
        "outputId": "540b4b1a-bbed-4986-da89-ef95dad1c4bf"
      },
      "source": [
        "# matplotlib\n",
        "import matplotlib.pyplot as plt\n",
        "plt.style.use('seaborn')\n",
        "\n",
        "# plot roc curves\n",
        "plt.plot(fpr1, tpr1, linestyle='--',color='orange', label='SVM')\n",
        "\n",
        "plt.plot(p_fpr, p_tpr, linestyle='--', color='blue')\n",
        "# title\n",
        "plt.title('ROC curve')\n",
        "# x label\n",
        "plt.xlabel('False Positive Rate')\n",
        "# y label\n",
        "plt.ylabel('True Positive rate')\n",
        "\n",
        "plt.legend(loc='best')\n",
        "plt.savefig('ROC',dpi=300)\n",
        "plt.show();"
      ],
      "execution_count": 31,
      "outputs": [
        {
          "output_type": "display_data",
          "data": {
            "image/png": "[encoded data removed]",
            "text/plain": [
              "<Figure size 576x396 with 1 Axes>"
            ]
          },
          "metadata": {}
        }
      ]
    },
    {
      "cell_type": "markdown",
      "metadata": {
        "id": "d1pyxZL23yBA"
      },
      "source": [
        "#Using tfidvectorizer if in can improve test result"
      ]
    },
    {
      "cell_type": "code",
      "metadata": {
        "id": "VHXw0VuL3xQ9"
      },
      "source": [
        "#vectorizing\n",
        "tf_vectorizer = TfidfVectorizer()\n",
        "tf_train_vectors = vectorizer.fit_transform(X_train)\n",
        "tf_test_vectors = vectorizer.transform(X_test)"
      ],
      "execution_count": 32,
      "outputs": []
    },
    {
      "cell_type": "code",
      "metadata": {
        "colab": {
          "base_uri": "https://localhost:8080/"
        },
        "id": "TxqvjMgY4B5L",
        "outputId": "470a81b9-a3a9-475c-d381-31e317aa1d74"
      },
      "source": [
        "#converting verctorized data to array \n",
        "tf_train_array= tf_train_vectors.toarray()\n",
        "tf_test_array = tf_test_vectors.toarray()\n",
        "\n",
        "#importing support vector machine classifier\n",
        "from sklearn.svm import SVC\n",
        "clf_tf = SVC(kernel='rbf', C=1E6)\n",
        "clf_tf.fit(tf_train_array,y_train)"
      ],
      "execution_count": 33,
      "outputs": [
        {
          "output_type": "execute_result",
          "data": {
            "text/plain": [
              "SVC(C=1000000.0)"
            ]
          },
          "metadata": {},
          "execution_count": 33
        }
      ]
    },
    {
      "cell_type": "code",
      "metadata": {
        "id": "yGrSSUa64hJO"
      },
      "source": [
        "#prediction\n",
        "y_train_pred_tf=clf_tf.predict(tf_train_array)\n",
        "y_test_pred_tf=clf_tf.predict(tf_test_array)"
      ],
      "execution_count": 34,
      "outputs": []
    },
    {
      "cell_type": "code",
      "metadata": {
        "colab": {
          "base_uri": "https://localhost:8080/"
        },
        "id": "s3aivL8B4k3r",
        "outputId": "071d6250-c992-4470-90c2-46cfd63c0225"
      },
      "source": [
        "#evaluting using roc auc\n",
        "from sklearn.metrics import accuracy_score,confusion_matrix,roc_auc_score\n",
        "\n",
        "# auc score\n",
        "print('test accuracy score:',accuracy_score(y_test,y_test_pred_tf))\n",
        "print('train accuracy score:',accuracy_score(y_train,y_train_pred_tf))\n",
        "print('test roc auc  score:',roc_auc_score(y_test,y_test_pred_tf))\n",
        "print('train train roc auc score:',roc_auc_score(y_train,y_train_pred_tf))"
      ],
      "execution_count": 35,
      "outputs": [
        {
          "output_type": "stream",
          "name": "stdout",
          "text": [
            "test accuracy score: 0.8796015591165006\n",
            "train accuracy score: 0.9974003466204506\n",
            "test roc auc  score: 0.8004807799866661\n",
            "train train roc auc score: 0.9939849399136581\n"
          ]
        }
      ]
    },
    {
      "cell_type": "code",
      "metadata": {
        "colab": {
          "base_uri": "https://localhost:8080/"
        },
        "id": "lfh5ouY67eCh",
        "outputId": "b1fb549f-d7f8-44c0-e6bd-7dca9c776c8a"
      },
      "source": [
        "from sklearn.metrics import classification_report\n",
        "print(classification_report(y_test,y_test_pred_tf))"
      ],
      "execution_count": 37,
      "outputs": [
        {
          "output_type": "stream",
          "name": "stdout",
          "text": [
            "              precision    recall  f1-score   support\n",
            "\n",
            "           0       0.91      0.94      0.92      1817\n",
            "           1       0.74      0.66      0.70       492\n",
            "\n",
            "    accuracy                           0.88      2309\n",
            "   macro avg       0.83      0.80      0.81      2309\n",
            "weighted avg       0.88      0.88      0.88      2309\n",
            "\n"
          ]
        }
      ]
    },
    {
      "cell_type": "code",
      "metadata": {
        "colab": {
          "base_uri": "https://localhost:8080/"
        },
        "id": "vxWyQcGZ7Kva",
        "outputId": "d96759ae-5f4f-42b4-f8c6-03929c4cf4e6"
      },
      "source": [
        "from sklearn.metrics import classification_report\n",
        "print(classification_report(y_test,y_test_pred))"
      ],
      "execution_count": 36,
      "outputs": [
        {
          "output_type": "stream",
          "name": "stdout",
          "text": [
            "              precision    recall  f1-score   support\n",
            "\n",
            "           0       0.91      0.94      0.92      1817\n",
            "           1       0.74      0.66      0.70       492\n",
            "\n",
            "    accuracy                           0.88      2309\n",
            "   macro avg       0.83      0.80      0.81      2309\n",
            "weighted avg       0.88      0.88      0.88      2309\n",
            "\n"
          ]
        }
      ]
    },
    {
      "cell_type": "markdown",
      "metadata": {
        "id": "KQpBHOa66YGG"
      },
      "source": [
        "#Vectorization performing better than tfidfvectorizer"
      ]
    },
    {
      "cell_type": "markdown",
      "metadata": {
        "id": "2PkLmCkh8K0r"
      },
      "source": [
        "#performing grid search cv"
      ]
    },
    {
      "cell_type": "code",
      "metadata": {
        "colab": {
          "base_uri": "https://localhost:8080/"
        },
        "id": "v8l1MnWC8P7v",
        "outputId": "7efd311e-9299-49a4-a1d9-316141b439c3"
      },
      "source": [
        "from sklearn.model_selection import GridSearchCV\n",
        " \n",
        "# defining parameter range\n",
        "param_grid = {'C': [0.1, 1,1000,100000],\n",
        "              'gamma': [1, 0.1, 0.0001,10,100],\n",
        "              'kernel': ['rbf']}\n",
        " \n",
        "grid = GridSearchCV(SVC(), param_grid,cv=2)\n",
        " \n",
        "# fitting the model for grid search\n",
        "grid.fit(train_array,y_train)"
      ],
      "execution_count": 40,
      "outputs": [
        {
          "output_type": "execute_result",
          "data": {
            "text/plain": [
              "GridSearchCV(cv=2, estimator=SVC(),\n",
              "             param_grid={'C': [0.1, 1, 1000, 100000],\n",
              "                         'gamma': [1, 0.1, 0.0001, 10, 100],\n",
              "                         'kernel': ['rbf']})"
            ]
          },
          "metadata": {},
          "execution_count": 40
        }
      ]
    },
    {
      "cell_type": "code",
      "metadata": {
        "id": "_larazUl86ni"
      },
      "source": [
        "#prediction\n",
        "grid_y_train_pred_tf=grid.predict(train_array)\n",
        "grid_y_test_pred_tf=grid.predict(test_array)"
      ],
      "execution_count": 41,
      "outputs": []
    },
    {
      "cell_type": "code",
      "metadata": {
        "colab": {
          "base_uri": "https://localhost:8080/"
        },
        "id": "0T7a8cPrGtYy",
        "outputId": "8f23336e-b2fd-48c7-db89-08e8af8d74ee"
      },
      "source": [
        "#evaluting using roc auc\n",
        "from sklearn.metrics import accuracy_score,confusion_matrix,roc_auc_score\n",
        "\n",
        "# auc score\n",
        "print('test accuracy score:',accuracy_score(y_test,grid_y_test_pred_tf))\n",
        "print('train accuracy score:',accuracy_score(y_train,grid_y_train_pred_tf))\n",
        "print('test roc auc  score:',roc_auc_score(y_test,grid_y_test_pred_tf))\n",
        "print('train train roc auc score:',roc_auc_score(y_train,grid_y_train_pred_tf))"
      ],
      "execution_count": 43,
      "outputs": [
        {
          "output_type": "stream",
          "name": "stdout",
          "text": [
            "test accuracy score: 0.8999566912083153\n",
            "train accuracy score: 0.9352253032928943\n",
            "test roc auc  score: 0.8082266176266606\n",
            "train train roc auc score: 0.8653056239671849\n"
          ]
        }
      ]
    },
    {
      "cell_type": "code",
      "metadata": {
        "colab": {
          "base_uri": "https://localhost:8080/"
        },
        "id": "ZVDcjqoDG7Ix",
        "outputId": "4d757fd5-015e-485c-9223-e3c37d19a195"
      },
      "source": [
        "from sklearn.metrics import classification_report\n",
        "print(classification_report(y_test,grid_y_test_pred_tf))"
      ],
      "execution_count": 44,
      "outputs": [
        {
          "output_type": "stream",
          "name": "stdout",
          "text": [
            "              precision    recall  f1-score   support\n",
            "\n",
            "           0       0.91      0.97      0.94      1817\n",
            "           1       0.85      0.65      0.73       492\n",
            "\n",
            "    accuracy                           0.90      2309\n",
            "   macro avg       0.88      0.81      0.84      2309\n",
            "weighted avg       0.90      0.90      0.89      2309\n",
            "\n"
          ]
        }
      ]
    },
    {
      "cell_type": "code",
      "metadata": {
        "id": "_U_iq7IzHYf3"
      },
      "source": [
        ""
      ],
      "execution_count": null,
      "outputs": []
    }
  ]
}